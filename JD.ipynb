{
  "nbformat": 4,
  "nbformat_minor": 0,
  "metadata": {
    "colab": {
      "name": "JD.ipynb",
      "provenance": [],
      "authorship_tag": "ABX9TyOGfyU/yxitYkK/zlsp/GVg",
      "include_colab_link": true
    },
    "kernelspec": {
      "name": "python3",
      "display_name": "Python 3"
    },
    "language_info": {
      "name": "python"
    }
  },
  "cells": [
    {
      "cell_type": "markdown",
      "metadata": {
        "id": "view-in-github",
        "colab_type": "text"
      },
      "source": [
        "<a href=\"https://colab.research.google.com/github/PD2207/JD/blob/main/JD.ipynb\" target=\"_parent\"><img src=\"https://colab.research.google.com/assets/colab-badge.svg\" alt=\"Open In Colab\"/></a>"
      ]
    },
    {
      "cell_type": "code",
      "metadata": {
        "id": "0lG_6CIcKHI-"
      },
      "source": [
        "#To be done on Pycharm\n",
        "from selenium import webdriver\n",
        "import time\n",
        "import os\n",
        "import pandas as pd\n",
        "driver = webdriver.Chrome(executable_path=r\"C:\\Users\\Param Dave\\chromedriver\\chromedriver.exe\")\n",
        "driver.get(\"https://www.justdial.com/Mumbai/Apple-Store/nct-11984314\")\n",
        "\n",
        "\n",
        "def strings_to_num(argument):\n",
        "    switcher = {\n",
        "        'dc': '+',\n",
        "        'fe': '(',\n",
        "        'hg': ')',\n",
        "        'ba': '-',\n",
        "        'acb': '0',\n",
        "        'yz': '1',\n",
        "        'wx': '2',\n",
        "        'vu': '3',\n",
        "        'ts': '4',\n",
        "        'rq': '5',\n",
        "        'po': '6',\n",
        "        'nm': '7',\n",
        "        'lk': '8',\n",
        "        'ji': '9'\n",
        "    }\n",
        "\n",
        "    return switcher.get(argument, \"nothing\")\n",
        "\n",
        "\n",
        "storeDetails = driver.find_elements_by_class_name('store-details')\n",
        "\n",
        "nameList = []\n",
        "addressList = []\n",
        "numbersList = []\n",
        "\n",
        "for i in range(len(storeDetails)):\n",
        "\n",
        "    name = storeDetails[i].find_element_by_class_name('lng_cont_name').text\n",
        "    address = storeDetails[i].find_element_by_class_name('cont_sw_addr').get_attribute('innerHTML')\n",
        "    contactList = storeDetails[i].find_elements_by_class_name('mobilesv')\n",
        "\n",
        "    myList = []\n",
        "\n",
        "    for j in range(len(contactList)):\n",
        "        myString = contactList[j].get_attribute('class').split(\"-\")[1]\n",
        "\n",
        "        myList.append(strings_to_num(myString))\n",
        "\n",
        "    nameList.append(name)\n",
        "    addressList.append(address)\n",
        "    numbersList.append(\"\".join(myList))\n",
        "\n",
        "# intialise data of lists.\n",
        "data = {'Company Name': nameList,\n",
        "        'Address': addressList,\n",
        "        'Phone': numbersList}\n",
        "\n",
        "# Create DataFrame\n",
        "df = pd.DataFrame(data)\n",
        "print(df)\n",
        "df.to_csv('jd_data.csv', mode='a', header=False)"
      ],
      "execution_count": null,
      "outputs": []
    }
  ]
}